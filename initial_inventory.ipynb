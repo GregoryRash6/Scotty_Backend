{
 "cells": [
  {
   "cell_type": "code",
   "execution_count": 1,
   "id": "c890a3a0-8247-4bcb-ac81-82ace0a6bd54",
   "metadata": {},
   "outputs": [],
   "source": [
    "import pandas as pd\n",
    "import os\n",
    "from sqlalchemy import create_engine"
   ]
  },
  {
   "cell_type": "code",
   "execution_count": 2,
   "id": "38be7c39-58da-4291-bbda-015aa7f908f1",
   "metadata": {},
   "outputs": [],
   "source": [
    "# Set Connection String\n",
    "connection_string = f\"postgres:Dodgedart11$@localhost:5432/inventory_db\"\n",
    "\n",
    "# Set Engine\n",
    "engine = create_engine(f'postgresql://{connection_string}')"
   ]
  },
  {
   "cell_type": "code",
   "execution_count": 3,
   "id": "5f0db23c-afe6-4b40-b782-8bd061b3c393",
   "metadata": {},
   "outputs": [],
   "source": [
    "initial_inventory = [\n",
    "    {'name': 'Membership Kit', 'price': 125.0, 'size': 'N/A', 'quantity': 1}, \n",
    "    {'name': 'Bulldog Polo', 'price': 140.0, 'size': 'XL', 'quantity': 1}, \n",
    "    {'name': 'Club Cameron Head Cover', 'price': 40.0, 'size': 'N/A', 'quantity': 1}, \n",
    "    {'name': 'V12 Blade Head Cover', 'price': 100.0, 'size': 'N/A', 'quantity': 1}, \n",
    "    {'name': 'V12 Mid Mallet Head Cover', 'price': 120.0, 'size': 'N/A', 'quantity': 2}, \n",
    "    {'name': 'Black Visor', 'price': 50.0, 'size': 'N/A', 'quantity': 1}, \n",
    "    {'name': 'White Visor', 'price': 50.0, 'size': 'N/A', 'quantity': 1}, \n",
    "    {'name': 'Baller Boy Bag Tag', 'price': 30.0, 'size': 'N/A', 'quantity': 1}, \n",
    "    {'name': 'Club Cameron Head Cover', 'price': 40.0, 'size': 'N/A', 'quantity': 1}, \n",
    "    {'name': 'Jackpot Johnny Pullover', 'price': 160.0, 'size': 'XXL', 'quantity': 2}, \n",
    "    {'name': 'Hot Head Harry Polo', 'price': 140.0, 'size': 'XXL', 'quantity': 2}, \n",
    "    {'name': 'Jackpot Johnny Polo', 'price': 140.0, 'size': 'XXL', 'quantity': 2}, \n",
    "    {'name': 'Purple Aero Tool', 'price': 60.0, 'size': 'N/A', 'quantity': 1}, \n",
    "    {'name': '2023 Hardi Gras Head Cover', 'price': 130.0, 'size': 'N/A', 'quantity': 2}, \n",
    "    {'name': 'Peace Surfer Hoodie', 'price': 150.0, 'size': 'XXL', 'quantity': 1}\n",
    "]  "
   ]
  },
  {
   "cell_type": "code",
   "execution_count": 8,
   "id": "951630d1-e55b-472d-ad03-2a9eaacd1344",
   "metadata": {},
   "outputs": [],
   "source": [
    "inventory_df = pd.DataFrame(initial_inventory)"
   ]
  },
  {
   "cell_type": "code",
   "execution_count": 9,
   "id": "e00c7834-d5eb-445c-90d6-d63679d4f8ba",
   "metadata": {},
   "outputs": [
    {
     "data": {
      "text/html": [
       "<div>\n",
       "<style scoped>\n",
       "    .dataframe tbody tr th:only-of-type {\n",
       "        vertical-align: middle;\n",
       "    }\n",
       "\n",
       "    .dataframe tbody tr th {\n",
       "        vertical-align: top;\n",
       "    }\n",
       "\n",
       "    .dataframe thead th {\n",
       "        text-align: right;\n",
       "    }\n",
       "</style>\n",
       "<table border=\"1\" class=\"dataframe\">\n",
       "  <thead>\n",
       "    <tr style=\"text-align: right;\">\n",
       "      <th></th>\n",
       "      <th>name</th>\n",
       "      <th>price</th>\n",
       "      <th>size</th>\n",
       "      <th>quantity</th>\n",
       "    </tr>\n",
       "  </thead>\n",
       "  <tbody>\n",
       "    <tr>\n",
       "      <th>0</th>\n",
       "      <td>Membership Kit</td>\n",
       "      <td>125.0</td>\n",
       "      <td>N/A</td>\n",
       "      <td>1</td>\n",
       "    </tr>\n",
       "    <tr>\n",
       "      <th>1</th>\n",
       "      <td>Bulldog Polo</td>\n",
       "      <td>140.0</td>\n",
       "      <td>XL</td>\n",
       "      <td>1</td>\n",
       "    </tr>\n",
       "    <tr>\n",
       "      <th>2</th>\n",
       "      <td>Club Cameron Head Cover</td>\n",
       "      <td>40.0</td>\n",
       "      <td>N/A</td>\n",
       "      <td>1</td>\n",
       "    </tr>\n",
       "    <tr>\n",
       "      <th>3</th>\n",
       "      <td>V12 Blade Head Cover</td>\n",
       "      <td>100.0</td>\n",
       "      <td>N/A</td>\n",
       "      <td>1</td>\n",
       "    </tr>\n",
       "    <tr>\n",
       "      <th>4</th>\n",
       "      <td>V12 Mid Mallet Head Cover</td>\n",
       "      <td>120.0</td>\n",
       "      <td>N/A</td>\n",
       "      <td>2</td>\n",
       "    </tr>\n",
       "    <tr>\n",
       "      <th>5</th>\n",
       "      <td>Black Visor</td>\n",
       "      <td>50.0</td>\n",
       "      <td>N/A</td>\n",
       "      <td>1</td>\n",
       "    </tr>\n",
       "    <tr>\n",
       "      <th>6</th>\n",
       "      <td>White Visor</td>\n",
       "      <td>50.0</td>\n",
       "      <td>N/A</td>\n",
       "      <td>1</td>\n",
       "    </tr>\n",
       "    <tr>\n",
       "      <th>7</th>\n",
       "      <td>Baller Boy Bag Tag</td>\n",
       "      <td>30.0</td>\n",
       "      <td>N/A</td>\n",
       "      <td>1</td>\n",
       "    </tr>\n",
       "    <tr>\n",
       "      <th>8</th>\n",
       "      <td>Club Cameron Head Cover</td>\n",
       "      <td>40.0</td>\n",
       "      <td>N/A</td>\n",
       "      <td>1</td>\n",
       "    </tr>\n",
       "    <tr>\n",
       "      <th>9</th>\n",
       "      <td>Jackpot Johnny Pullover</td>\n",
       "      <td>160.0</td>\n",
       "      <td>XXL</td>\n",
       "      <td>2</td>\n",
       "    </tr>\n",
       "    <tr>\n",
       "      <th>10</th>\n",
       "      <td>Hot Head Harry Polo</td>\n",
       "      <td>140.0</td>\n",
       "      <td>XXL</td>\n",
       "      <td>2</td>\n",
       "    </tr>\n",
       "    <tr>\n",
       "      <th>11</th>\n",
       "      <td>Jackpot Johnny Polo</td>\n",
       "      <td>140.0</td>\n",
       "      <td>XXL</td>\n",
       "      <td>2</td>\n",
       "    </tr>\n",
       "    <tr>\n",
       "      <th>12</th>\n",
       "      <td>Purple Aero Tool</td>\n",
       "      <td>60.0</td>\n",
       "      <td>N/A</td>\n",
       "      <td>1</td>\n",
       "    </tr>\n",
       "    <tr>\n",
       "      <th>13</th>\n",
       "      <td>2023 Hardi Gras Head Cover</td>\n",
       "      <td>130.0</td>\n",
       "      <td>N/A</td>\n",
       "      <td>2</td>\n",
       "    </tr>\n",
       "    <tr>\n",
       "      <th>14</th>\n",
       "      <td>Peace Surfer Hoodie</td>\n",
       "      <td>150.0</td>\n",
       "      <td>XXL</td>\n",
       "      <td>1</td>\n",
       "    </tr>\n",
       "  </tbody>\n",
       "</table>\n",
       "</div>"
      ],
      "text/plain": [
       "                          name  price size  quantity\n",
       "0               Membership Kit  125.0  N/A         1\n",
       "1                 Bulldog Polo  140.0   XL         1\n",
       "2      Club Cameron Head Cover   40.0  N/A         1\n",
       "3         V12 Blade Head Cover  100.0  N/A         1\n",
       "4    V12 Mid Mallet Head Cover  120.0  N/A         2\n",
       "5                  Black Visor   50.0  N/A         1\n",
       "6                  White Visor   50.0  N/A         1\n",
       "7           Baller Boy Bag Tag   30.0  N/A         1\n",
       "8      Club Cameron Head Cover   40.0  N/A         1\n",
       "9      Jackpot Johnny Pullover  160.0  XXL         2\n",
       "10         Hot Head Harry Polo  140.0  XXL         2\n",
       "11         Jackpot Johnny Polo  140.0  XXL         2\n",
       "12            Purple Aero Tool   60.0  N/A         1\n",
       "13  2023 Hardi Gras Head Cover  130.0  N/A         2\n",
       "14         Peace Surfer Hoodie  150.0  XXL         1"
      ]
     },
     "execution_count": 9,
     "metadata": {},
     "output_type": "execute_result"
    }
   ],
   "source": [
    "inventory_df"
   ]
  },
  {
   "cell_type": "code",
   "execution_count": 10,
   "id": "3b283f7e-04ea-42ce-ae2f-a1d5d42557d3",
   "metadata": {},
   "outputs": [
    {
     "data": {
      "text/plain": [
       "15"
      ]
     },
     "execution_count": 10,
     "metadata": {},
     "output_type": "execute_result"
    }
   ],
   "source": [
    "inventory_df.to_sql(name='inventory', con=engine, if_exists='append', index=False)"
   ]
  },
  {
   "cell_type": "code",
   "execution_count": null,
   "id": "5e10f643-823a-46bd-9533-ba5ce3a29a84",
   "metadata": {},
   "outputs": [],
   "source": []
  }
 ],
 "metadata": {
  "kernelspec": {
   "display_name": "Python 3 (ipykernel)",
   "language": "python",
   "name": "python3"
  },
  "language_info": {
   "codemirror_mode": {
    "name": "ipython",
    "version": 3
   },
   "file_extension": ".py",
   "mimetype": "text/x-python",
   "name": "python",
   "nbconvert_exporter": "python",
   "pygments_lexer": "ipython3",
   "version": "3.11.0"
  }
 },
 "nbformat": 4,
 "nbformat_minor": 5
}
